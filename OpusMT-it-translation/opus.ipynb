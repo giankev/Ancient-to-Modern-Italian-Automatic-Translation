{
 "cells": [
  {
   "cell_type": "code",
   "execution_count": null,
   "id": "d4673dbc",
   "metadata": {},
   "outputs": [],
   "source": [
    "# pip install transformers sentencepiece torch pandas sacremoses\n"
   ]
  },
  {
   "cell_type": "code",
   "execution_count": 1,
   "id": "9c4b385d",
   "metadata": {},
   "outputs": [],
   "source": [
    "import os\n",
    "import csv\n",
    "import json\n",
    "import pandas as pd\n",
    "import torch\n",
    "from transformers import MarianMTModel, MarianTokenizer"
   ]
  },
  {
   "cell_type": "markdown",
   "id": "bf665744",
   "metadata": {},
   "source": [
    "Load the CSV file\n",
    "- The CSV should be named \"dataset.csv\"\n",
    "- It must contain a column \"sentence\" with Italian sentences."
   ]
  },
  {
   "cell_type": "code",
   "execution_count": 3,
   "id": "4ae342f9",
   "metadata": {},
   "outputs": [],
   "source": [
    "def parse(file_path = 'dataset.csv'):\n",
    "    # Get absolute path\n",
    "    # current_dir = os.path.dirname(os.path.abspath(__file__))\n",
    "    # file_path = os.path.join(current_dir, file_path)\n",
    "\n",
    "    # Get data as dictionary\n",
    "    data = []\n",
    "    with open(file_path, newline='', encoding='utf-8') as csvfile:\n",
    "        reader = csv.DictReader(csvfile)\n",
    "        for row in reader:\n",
    "            data.append(row)\n",
    "    \n",
    "    return data\n",
    "\n",
    "data = parse()\n",
    "sentences = [row[\"Sentence\"] for row in data]"
   ]
  },
  {
   "cell_type": "markdown",
   "id": "abb20113",
   "metadata": {},
   "source": [
    "Load models & tokenizers"
   ]
  },
  {
   "cell_type": "code",
   "execution_count": 4,
   "id": "1a301007",
   "metadata": {},
   "outputs": [
    {
     "data": {
      "text/plain": [
       "MarianMTModel(\n",
       "  (model): MarianModel(\n",
       "    (shared): Embedding(80035, 512, padding_idx=80034)\n",
       "    (encoder): MarianEncoder(\n",
       "      (embed_tokens): Embedding(80035, 512, padding_idx=80034)\n",
       "      (embed_positions): MarianSinusoidalPositionalEmbedding(512, 512)\n",
       "      (layers): ModuleList(\n",
       "        (0-5): 6 x MarianEncoderLayer(\n",
       "          (self_attn): MarianAttention(\n",
       "            (k_proj): Linear(in_features=512, out_features=512, bias=True)\n",
       "            (v_proj): Linear(in_features=512, out_features=512, bias=True)\n",
       "            (q_proj): Linear(in_features=512, out_features=512, bias=True)\n",
       "            (out_proj): Linear(in_features=512, out_features=512, bias=True)\n",
       "          )\n",
       "          (self_attn_layer_norm): LayerNorm((512,), eps=1e-05, elementwise_affine=True)\n",
       "          (activation_fn): SiLU()\n",
       "          (fc1): Linear(in_features=512, out_features=2048, bias=True)\n",
       "          (fc2): Linear(in_features=2048, out_features=512, bias=True)\n",
       "          (final_layer_norm): LayerNorm((512,), eps=1e-05, elementwise_affine=True)\n",
       "        )\n",
       "      )\n",
       "    )\n",
       "    (decoder): MarianDecoder(\n",
       "      (embed_tokens): Embedding(80035, 512, padding_idx=80034)\n",
       "      (embed_positions): MarianSinusoidalPositionalEmbedding(512, 512)\n",
       "      (layers): ModuleList(\n",
       "        (0-5): 6 x MarianDecoderLayer(\n",
       "          (self_attn): MarianAttention(\n",
       "            (k_proj): Linear(in_features=512, out_features=512, bias=True)\n",
       "            (v_proj): Linear(in_features=512, out_features=512, bias=True)\n",
       "            (q_proj): Linear(in_features=512, out_features=512, bias=True)\n",
       "            (out_proj): Linear(in_features=512, out_features=512, bias=True)\n",
       "          )\n",
       "          (activation_fn): SiLU()\n",
       "          (self_attn_layer_norm): LayerNorm((512,), eps=1e-05, elementwise_affine=True)\n",
       "          (encoder_attn): MarianAttention(\n",
       "            (k_proj): Linear(in_features=512, out_features=512, bias=True)\n",
       "            (v_proj): Linear(in_features=512, out_features=512, bias=True)\n",
       "            (q_proj): Linear(in_features=512, out_features=512, bias=True)\n",
       "            (out_proj): Linear(in_features=512, out_features=512, bias=True)\n",
       "          )\n",
       "          (encoder_attn_layer_norm): LayerNorm((512,), eps=1e-05, elementwise_affine=True)\n",
       "          (fc1): Linear(in_features=512, out_features=2048, bias=True)\n",
       "          (fc2): Linear(in_features=2048, out_features=512, bias=True)\n",
       "          (final_layer_norm): LayerNorm((512,), eps=1e-05, elementwise_affine=True)\n",
       "        )\n",
       "      )\n",
       "    )\n",
       "  )\n",
       "  (lm_head): Linear(in_features=512, out_features=80035, bias=False)\n",
       ")"
      ]
     },
     "execution_count": 4,
     "metadata": {},
     "output_type": "execute_result"
    }
   ],
   "source": [
    "model_name_it2en = \"Helsinki-NLP/opus-mt-it-en\"\n",
    "model_name_en2it = \"Helsinki-NLP/opus-mt-en-it\"\n",
    "\n",
    "tokenizer_it2en = MarianTokenizer.from_pretrained(model_name_it2en)\n",
    "model_it2en = MarianMTModel.from_pretrained(model_name_it2en)\n",
    "\n",
    "tokenizer_en2it = MarianTokenizer.from_pretrained(model_name_en2it)\n",
    "model_en2it = MarianMTModel.from_pretrained(model_name_en2it)\n",
    "\n",
    "device = torch.device(\"cuda\" if torch.cuda.is_available() else \"cpu\")\n",
    "model_it2en.to(device)\n",
    "model_en2it.to(device)"
   ]
  },
  {
   "cell_type": "markdown",
   "id": "bd229750",
   "metadata": {},
   "source": [
    "Translate archaic italian to english"
   ]
  },
  {
   "cell_type": "code",
   "execution_count": 5,
   "id": "a04ed525",
   "metadata": {},
   "outputs": [],
   "source": [
    "encoded_it = tokenizer_it2en(\n",
    "    sentences,\n",
    "    return_tensors=\"pt\",\n",
    "    padding=True,\n",
    "    truncation=True\n",
    ")\n",
    "input_ids_it = encoded_it[\"input_ids\"].to(device)\n",
    "attention_mask_it = encoded_it[\"attention_mask\"].to(device)\n",
    "\n",
    "with torch.no_grad():\n",
    "    generated_en = model_it2en.generate(\n",
    "        input_ids=input_ids_it,\n",
    "        attention_mask=attention_mask_it,\n",
    "        max_length=512,\n",
    "        num_beams=8,\n",
    "        length_penalty=1.2,\n",
    "        early_stopping=True\n",
    "    )\n",
    "english_translations = tokenizer_it2en.batch_decode(\n",
    "    generated_en,\n",
    "    skip_special_tokens=True\n",
    ")\n",
    "# data[\"english\"] = english_translations"
   ]
  },
  {
   "cell_type": "markdown",
   "id": "6f066c3a",
   "metadata": {},
   "source": [
    "Translate english to italian"
   ]
  },
  {
   "cell_type": "code",
   "execution_count": 6,
   "id": "a4500d0f",
   "metadata": {},
   "outputs": [],
   "source": [
    "encoded_en = tokenizer_en2it(\n",
    "    english_translations,\n",
    "    return_tensors=\"pt\",\n",
    "    padding=True,\n",
    "    truncation=True\n",
    ")\n",
    "input_ids_en = encoded_en[\"input_ids\"].to(device)\n",
    "attention_mask_en = encoded_en[\"attention_mask\"].to(device)\n",
    "\n",
    "with torch.no_grad():\n",
    "    generated_it_back = model_en2it.generate(\n",
    "        input_ids=input_ids_en,\n",
    "        attention_mask=attention_mask_en,\n",
    "        max_length=512,\n",
    "        num_beams=8,\n",
    "        length_penalty=1.2,\n",
    "        early_stopping=True\n",
    "    )\n",
    "italian_translations = tokenizer_en2it.batch_decode(\n",
    "    generated_it_back,\n",
    "    skip_special_tokens=True\n",
    ")\n",
    "# data[\"italian\"] = italian_translations"
   ]
  },
  {
   "cell_type": "markdown",
   "id": "a0450a93",
   "metadata": {},
   "source": [
    "Save to jsonl"
   ]
  },
  {
   "cell_type": "code",
   "execution_count": 7,
   "id": "ca027ff4",
   "metadata": {},
   "outputs": [
    {
     "name": "stdout",
     "output_type": "stream",
     "text": [
      "Saved 97 sentences to 'CulturalIA-hw2_transl-opusmt.jsonl'\n"
     ]
    }
   ],
   "source": [
    "output_path = \"CulturalIA-hw2_transl-opusmt.jsonl\"\n",
    "\n",
    "with open(output_path, \"w\", encoding=\"utf-8\") as f:\n",
    "    for sent in italian_translations:\n",
    "        # Each line is a JSON object: {\"sentence\": \"<the Italian sentence>\"}\n",
    "        line = json.dumps({\"Sentence\": sent}, ensure_ascii=False)\n",
    "        f.write(line + \"\\n\")\n",
    "\n",
    "print(f\"Saved {len(italian_translations)} sentences to '{output_path}'\")"
   ]
  },
  {
   "cell_type": "markdown",
   "id": "35d3b6e7",
   "metadata": {},
   "source": [
    "Optionally, save also in CSV format, to allow for easier manual annotation of translation scores"
   ]
  },
  {
   "cell_type": "code",
   "execution_count": 8,
   "id": "c6ab99ae",
   "metadata": {},
   "outputs": [
    {
     "name": "stdout",
     "output_type": "stream",
     "text": [
      "Saved 97 sentences to 'CSV-CulturalIA-hw2_transl-opusmt.csv'\n"
     ]
    }
   ],
   "source": [
    "output_csv_path = \"CSV-CulturalIA-hw2_transl-opusmt.csv\"\n",
    "\n",
    "with open(output_csv_path, mode='w', encoding='utf-8', newline='') as f:\n",
    "    writer = csv.writer(f)\n",
    "    writer.writerow(['Sentence'])  # Write header\n",
    "    for sent in italian_translations:\n",
    "        writer.writerow([sent])\n",
    "\n",
    "print(f\"Saved {len(italian_translations)} sentences to '{output_csv_path}'\")"
   ]
  }
 ],
 "metadata": {
  "kernelspec": {
   "display_name": "Python 3 (ipykernel)",
   "language": "python",
   "name": "python3"
  },
  "language_info": {
   "codemirror_mode": {
    "name": "ipython",
    "version": 3
   },
   "file_extension": ".py",
   "mimetype": "text/x-python",
   "name": "python",
   "nbconvert_exporter": "python",
   "pygments_lexer": "ipython3",
   "version": "3.8.15"
  }
 },
 "nbformat": 4,
 "nbformat_minor": 5
}
